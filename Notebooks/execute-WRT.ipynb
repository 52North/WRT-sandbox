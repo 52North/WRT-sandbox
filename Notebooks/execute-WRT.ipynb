{
 "cells": [
  {
   "cell_type": "markdown",
   "id": "b78014a2",
   "metadata": {},
   "source": [
    "# Welcome to the WRT-sandbox"
   ]
  },
  {
   "cell_type": "markdown",
   "id": "cca86fb9",
   "metadata": {},
   "source": [
    "How to run this Jupyter-Notebook:\n",
    "- To run a cell click on it and press on the play sign in the toolbar in top left of your screen or press \"Shift\"+\"Enter\".\n",
    "- The graphs and images generated in this notebook can be downloaded by clicking on the folder sign on the left and then again in the smaller folder sign to reach the /home/jovyan directory. From there go to /Data->/Graphics-WRT and right click on the desired file to choose download."
   ]
  },
  {
   "cell_type": "markdown",
   "id": "469a43f1",
   "metadata": {},
   "source": [
    "### Start your own routing:\n",
    "1. Set the two map markers to your desired locations (startpoint:green, endpoint:red). For meaningful results place them inside the green box.\n",
    "2. Select a start time. Note that there is no weather data outside this timeframe so adjust the start time to the length of your route.\n",
    "3. Press \"start routing\". The routing may take a little while. Note: If you start a new routing the data of your last route will be deleted.\n",
    "4. You can look at route data by pressing on the route points.\n",
    "5. If you run \"display_route_graphs.py\" and \"display_routing_steps.py\" you can see the data of your current route.\n",
    "6. Press \"new route\" if you want to calculate another route."
   ]
  },
  {
   "cell_type": "code",
   "execution_count": null,
   "id": "44cabbc9",
   "metadata": {},
   "outputs": [],
   "source": [
    "%run /home/jovyan/Programmes/interactive_WRT.py"
   ]
  },
  {
   "cell_type": "markdown",
   "id": "6756c4b0",
   "metadata": {},
   "source": [
    "### What happens in the Background:\n",
    "1. When you press \"start routing\" the programm will write your start and end points and the start time in the config file, a file with all the information to your planned route.\n",
    "2. The Weather Routing Tool (WRT) will read out this file and calculate a route considering weather and water depth data. The route points will then be written to a new file min_time_route.json.\n",
    "3. The route gets displayed by the blue map markers.\n",
    "4. You can find the log file to your routing in the /Data folder (the path is explained above).\n",
    "5. For an in-depth explanation on the function of the WRT you can read the [ReadMe](https://github.com/52North/WeatherRoutingTool/blob/main/README.md)."
   ]
  },
  {
   "cell_type": "markdown",
   "id": "4b8294d6",
   "metadata": {},
   "source": [
    "### You can go through graphs on your routing by moving the slider."
   ]
  },
  {
   "cell_type": "code",
   "execution_count": null,
   "id": "376a711d",
   "metadata": {},
   "outputs": [],
   "source": [
    "%run /home/jovyan/Programmes/display_route_graphs.py"
   ]
  },
  {
   "cell_type": "markdown",
   "id": "c6a93b26",
   "metadata": {},
   "source": [
    "### You can go through the routing steps by moving the slider."
   ]
  },
  {
   "cell_type": "markdown",
   "id": "644c4c6e",
   "metadata": {},
   "source": [
    "In the Images you can see the possible routes considered by the tool for your route. Every new image shows the next steps considered for every route using the [Isochrone Algorithm](https://github.com/52North/WeatherRoutingTool/blob/main/README.md#isofuel-algorithm)."
   ]
  },
  {
   "cell_type": "code",
   "execution_count": null,
   "id": "804bc9d4",
   "metadata": {},
   "outputs": [],
   "source": [
    "%run /home/jovyan/Programmes/display_routing_steps.py"
   ]
  }
 ],
 "metadata": {
  "kernelspec": {
   "display_name": "base",
   "language": "python",
   "name": "python3"
  },
  "language_info": {
   "codemirror_mode": {
    "name": "ipython",
    "version": 3
   },
   "file_extension": ".py",
   "mimetype": "text/x-python",
   "name": "python",
   "nbconvert_exporter": "python",
   "pygments_lexer": "ipython3",
   "version": "3.12.7"
  }
 },
 "nbformat": 4,
 "nbformat_minor": 5
}

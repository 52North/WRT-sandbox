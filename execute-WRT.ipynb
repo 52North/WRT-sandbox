{
 "cells": [
  {
   "cell_type": "markdown",
   "id": "0e8e43b2",
   "metadata": {},
   "source": [
    "### Load the Weather-Routing-Tool."
   ]
  },
  {
   "cell_type": "code",
   "execution_count": null,
   "id": "f7de50e9",
   "metadata": {},
   "outputs": [],
   "source": [
    "import WeatherRoutingTool"
   ]
  },
  {
   "cell_type": "markdown",
   "id": "e9a3877c",
   "metadata": {},
   "source": [
    "### Set enviroment variables."
   ]
  },
  {
   "cell_type": "code",
   "execution_count": null,
   "id": "6ac507b3-52d8-4d39-957d-fba7a60b2f89",
   "metadata": {},
   "outputs": [],
   "source": [
    "from dotenv import load_dotenv\n",
    "import os\n",
    "\n",
    "load_dotenv() "
   ]
  },
  {
   "cell_type": "markdown",
   "id": "b78014a2",
   "metadata": {},
   "source": [
    "### Run the Weather-Routing-Tool with the given template. "
   ]
  },
  {
   "cell_type": "code",
   "execution_count": null,
   "id": "d065420c-7309-47c6-a240-1fd03ebc1715",
   "metadata": {},
   "outputs": [],
   "source": [
    "%run delete_Images_WRT.py\n",
    "%run cli.py -f config.template.json"
   ]
  },
  {
   "cell_type": "markdown",
   "id": "1e1bb1fe",
   "metadata": {},
   "source": [
    "### Display the calculated route."
   ]
  },
  {
   "cell_type": "code",
   "execution_count": null,
   "id": "0d77e35d",
   "metadata": {},
   "outputs": [],
   "source": [
    "import os\n",
    "import json\n",
    "from ipyleaflet import Map, GeoJSON\n",
    "\n",
    "m = Map(center=[39.926688, 7.930542], zoom=5.5)\n",
    "\n",
    "with open(\"min_time_route.json\") as f:\n",
    "    data = json.load(f)\n",
    "\n",
    "# Add the GeoJSON layer\n",
    "geo_json = GeoJSON(data=data)\n",
    "\n",
    "# Add the GeoJSON layer to the map\n",
    "m.add(geo_json)\n",
    "m"
   ]
  },
  {
   "cell_type": "markdown",
   "id": "c6a93b26",
   "metadata": {},
   "source": [
    "### You can go through the routing steps by moving the slider."
   ]
  },
  {
   "cell_type": "code",
   "execution_count": null,
   "id": "804bc9d4",
   "metadata": {},
   "outputs": [],
   "source": [
    "import os\n",
    "import re\n",
    "from PIL import Image\n",
    "from IPython.display import display, clear_output\n",
    "import ipywidgets as widgets\n",
    "\n",
    "# Resize images\n",
    "%run resize_Images_WRT.py\n",
    "\n",
    "# Define key for sorted function\n",
    "def natural_key(s):\n",
    "    return [int(text) if text.isdigit() else text.lower() for text in re.split(r'(\\d+)', s)]\n",
    "\n",
    "\n",
    "# Set path to Images folder\n",
    "image_folder = \"Images-WRT\"\n",
    "image_files = sorted([\n",
    "    f for f in os.listdir(image_folder)\n",
    "    if f.lower().endswith('.png')\n",
    "    ], key=natural_key)\n",
    "\n",
    "# Output-Widget for the image \n",
    "image_output = widgets.Output()\n",
    "\n",
    "# Function for displaying the images\n",
    "def show_image(index):\n",
    "    image_path = os.path.join(image_folder, image_files[index])\n",
    "    with image_output:\n",
    "        image_output.clear_output(wait=True)\n",
    "        img = Image.open(image_path)\n",
    "        display(img)\n",
    "\n",
    "# Defining the slider\n",
    "slider = widgets.IntSlider(\n",
    "    value=0,\n",
    "    min=0,\n",
    "    max=len(image_files) - 1,\n",
    "    step=1,\n",
    "    orientation='vertical',\n",
    "    description='routing-step',\n",
    "    continuous_update=True,\n",
    "    layout=widgets.Layout(height='300px')\n",
    ")\n",
    "\n",
    "# Callback for the slider\n",
    "slider.observe(lambda change: show_image(change['new']), names='value')\n",
    "\n",
    "# Layout\n",
    "ui = widgets.HBox([slider,image_output], layout=widgets.Layout(align_items='center'))\n",
    "\n",
    "# Show first image\n",
    "show_image(0)\n",
    "\n",
    "# Show ui\n",
    "display(ui)"
   ]
  },
  {
   "cell_type": "markdown",
   "id": "bd337c35",
   "metadata": {},
   "source": [
    "### You can start youre own routing by setting the two map markers (startpoint:green, endpoint:red). \n",
    "### Press 'start routing' to calculate the route.\n",
    "### If you want to set a new route press 'new route'."
   ]
  },
  {
   "cell_type": "code",
   "execution_count": null,
   "id": "1c049b13",
   "metadata": {},
   "outputs": [],
   "source": [
    "import json\n",
    "import os\n",
    "from ipyleaflet import Map, Marker, AwesomeIcon, GeoJSON\n",
    "import ipywidgets as widgets\n",
    "from ipywidgets import Button\n",
    "\n",
    "# Define the look of the map markers\n",
    "icon1 = AwesomeIcon(\n",
    "    name='map-pin',       \n",
    "    marker_color='green',       \n",
    "    icon_color='white',       \n",
    "    spin=False\n",
    ")\n",
    "\n",
    "icon2 = AwesomeIcon(\n",
    "    name='map-pin',       \n",
    "    marker_color='red',       \n",
    "    icon_color='white',       \n",
    "    spin=False\n",
    ")\n",
    "\n",
    "# Define the map and the map markers\n",
    "center = ([39.926688, 7.930542])\n",
    "m = Map(center=center, zoom=6)\n",
    "marker1 = Marker(location=([39.926688, 5]), draggable=True, icon=icon1)\n",
    "marker2 = Marker(location=([39.926688, 10.5]), draggable=True, icon=icon2)\n",
    "\n",
    "m.add(marker1)\n",
    "m.add(marker2)\n",
    "\n",
    "# Define Buttons to start the routing and to set a new route\n",
    "button1= widgets.Button(description=\"start routing\")\n",
    "button2= widgets.Button(description=\"new route\")\n",
    "\n",
    "# Function that deletes the last route and sets the map markers to their default position\n",
    "def on_button2_clicked(b):\n",
    "    marker1.location=(39.926688, 5)\n",
    "    marker2.location=(39.926688, 10.5)\n",
    "    try:\n",
    "        m.remove(geo_json)\n",
    "        m.add(marker1)\n",
    "        m.add(marker2)\n",
    "    except:\n",
    "        print(\"Map markers already in default position\")\n",
    "\n",
    "# Function thet rewrites the config file so the WRT calculates the route between the given map markers,\n",
    "# starts the WRT and displays the calculated route\n",
    "def on_button1_clicked(b):\n",
    "    a,b=marker1.location\n",
    "    c,d=marker2.location\n",
    "    with open('config.template.json', 'r+') as f:\n",
    "        data = json.load(f)\n",
    "        data['DEFAULT_ROUTE'] = [a,b,c,d]\n",
    "    with open('config.template.json', 'w') as file: \n",
    "        json.dump(data, file, indent=4)\n",
    "    %run delete_Images_WRT.py\n",
    "    %run cli.py -f config.template.json\n",
    "    with open(\"min_time_route.json\") as f:\n",
    "        data = json.load(f)\n",
    "    global geo_json\n",
    "    geo_json = GeoJSON(data=data)\n",
    "    try:\n",
    "        m.remove(marker1)\n",
    "        m.remove(marker2)\n",
    "        m.add(geo_json)\n",
    "    except:\n",
    "        print(\"Route already displayed\")\n",
    "\n",
    "# Add callbacks for the buttons and display them and he map \n",
    "button1.on_click(on_button1_clicked)\n",
    "button2.on_click(on_button2_clicked)\n",
    "ui=widgets.HBox([button1, button2])\n",
    "display(ui)\n",
    "m"
   ]
  }
 ],
 "metadata": {
  "kernelspec": {
   "display_name": "base",
   "language": "python",
   "name": "python3"
  },
  "language_info": {
   "codemirror_mode": {
    "name": "ipython",
    "version": 3
   },
   "file_extension": ".py",
   "mimetype": "text/x-python",
   "name": "python",
   "nbconvert_exporter": "python",
   "pygments_lexer": "ipython3",
   "version": "3.12.7"
  }
 },
 "nbformat": 4,
 "nbformat_minor": 5
}

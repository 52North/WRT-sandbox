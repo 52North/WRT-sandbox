{
 "cells": [
  {
   "cell_type": "markdown",
   "id": "b78014a2",
   "metadata": {},
   "source": [
    "### Run the Weather-Routing-Tool with the given template. "
   ]
  },
  {
   "cell_type": "code",
   "execution_count": null,
   "id": "d065420c-7309-47c6-a240-1fd03ebc1715",
   "metadata": {},
   "outputs": [],
   "source": [
    "%run load_env.py\n",
    "%run delete_Images_WRT.py\n",
    "%run cli.py -f config.template.json"
   ]
  },
  {
   "cell_type": "markdown",
   "id": "1e1bb1fe",
   "metadata": {},
   "source": [
    "### Display the calculated route."
   ]
  },
  {
   "cell_type": "code",
   "execution_count": null,
   "id": "0d77e35d",
   "metadata": {},
   "outputs": [],
   "source": [
    "%run display_geojson.py"
   ]
  },
  {
   "cell_type": "markdown",
   "id": "c6a93b26",
   "metadata": {},
   "source": [
    "### You can go through the routing steps by moving the slider."
   ]
  },
  {
   "cell_type": "code",
   "execution_count": null,
   "id": "804bc9d4",
   "metadata": {},
   "outputs": [],
   "source": [
    "%run routingstep_slider.py"
   ]
  },
  {
   "cell_type": "markdown",
   "id": "bd337c35",
   "metadata": {},
   "source": [
    "### You can start youre own routing by setting the two map markers (startpoint:green, endpoint:red). \n",
    "### Press 'start routing' to calculate the route.\n",
    "### If you want to set a new route press 'new route'."
   ]
  },
  {
   "cell_type": "code",
   "execution_count": null,
   "id": "1c049b13",
   "metadata": {},
   "outputs": [],
   "source": [
    "%run interactive_WRT.py"
   ]
  }
 ],
 "metadata": {
  "kernelspec": {
   "display_name": "base",
   "language": "python",
   "name": "python3"
  },
  "language_info": {
   "codemirror_mode": {
    "name": "ipython",
    "version": 3
   },
   "file_extension": ".py",
   "mimetype": "text/x-python",
   "name": "python",
   "nbconvert_exporter": "python",
   "pygments_lexer": "ipython3",
   "version": "3.12.7"
  }
 },
 "nbformat": 4,
 "nbformat_minor": 5
}

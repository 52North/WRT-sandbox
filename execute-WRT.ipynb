{
 "cells": [
  {
   "cell_type": "markdown",
   "id": "b78014a2",
   "metadata": {},
   "source": [
    "### Load variables and run the Weather-Routing-Tool with the given template. "
   ]
  },
  {
   "cell_type": "code",
   "execution_count": null,
   "id": "d065420c-7309-47c6-a240-1fd03ebc1715",
   "metadata": {},
   "outputs": [],
   "source": [
    "%run run_WRT.py"
   ]
  },
  {
   "cell_type": "markdown",
   "id": "1e1bb1fe",
   "metadata": {},
   "source": [
    "### Display the calculated route."
   ]
  },
  {
   "cell_type": "code",
   "execution_count": null,
   "id": "0d77e35d",
   "metadata": {},
   "outputs": [],
   "source": [
    "%run display_geojson.py"
   ]
  },
  {
   "cell_type": "markdown",
   "id": "4b8294d6",
   "metadata": {},
   "source": [
    "### Generate graphs "
   ]
  },
  {
   "cell_type": "code",
   "execution_count": null,
   "id": "376a711d",
   "metadata": {},
   "outputs": [],
   "source": [
    "%run compare_routes.py"
   ]
  },
  {
   "cell_type": "markdown",
   "id": "c6a93b26",
   "metadata": {},
   "source": [
    "### You can go through the routing steps by moving the slider."
   ]
  },
  {
   "cell_type": "code",
   "execution_count": null,
   "id": "804bc9d4",
   "metadata": {},
   "outputs": [],
   "source": [
    "%run routingstep_slider.py"
   ]
  },
  {
   "cell_type": "markdown",
   "id": "bd337c35",
   "metadata": {},
   "source": [
    "### Start your own routing:\n",
    "    1. Set the two map markers to your desired locations (startpoint:green, endpoint:red). For accurate results place them inside the green box.\n",
    "    2. Select a start time. Note that there is no weather data outside this timeframe so adjust the start time to the length of your route.\n",
    "    3. Press \"start routing\".\n",
    "    4. You can look at route data by pressing on the route points.\n",
    "    5. If you run routingstep_slider.py again you can see the routing steps of your route.\n",
    "    6. Press \"new route\" if you want to calculate another route."
   ]
  },
  {
   "cell_type": "code",
   "execution_count": null,
   "id": "1c049b13",
   "metadata": {},
   "outputs": [],
   "source": [
    "%run interactive_WRT.py"
   ]
  }
 ],
 "metadata": {
  "kernelspec": {
   "display_name": "base",
   "language": "python",
   "name": "python3"
  },
  "language_info": {
   "codemirror_mode": {
    "name": "ipython",
    "version": 3
   },
   "file_extension": ".py",
   "mimetype": "text/x-python",
   "name": "python",
   "nbconvert_exporter": "python",
   "pygments_lexer": "ipython3",
   "version": "3.12.7"
  }
 },
 "nbformat": 4,
 "nbformat_minor": 5
}

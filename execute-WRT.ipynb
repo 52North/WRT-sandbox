{
 "cells": [
  {
   "cell_type": "code",
   "execution_count": null,
   "id": "f7de50e9",
   "metadata": {},
   "outputs": [],
   "source": [
    "import WeatherRoutingTool"
   ]
  },
  {
   "cell_type": "code",
   "execution_count": null,
   "id": "6ac507b3-52d8-4d39-957d-fba7a60b2f89",
   "metadata": {},
   "outputs": [],
   "source": [
    "from dotenv import load_dotenv\n",
    "import os\n",
    "\n",
    "load_dotenv() "
   ]
  },
  {
   "cell_type": "code",
   "execution_count": null,
   "id": "d065420c-7309-47c6-a240-1fd03ebc1715",
   "metadata": {},
   "outputs": [],
   "source": [
    "%%bash\n",
    "python cli.py -f config.template.json"
   ]
  },
  {
   "cell_type": "code",
   "execution_count": null,
   "id": "0d77e35d",
   "metadata": {},
   "outputs": [],
   "source": [
    "import os\n",
    "import json\n",
    "from ipyopenlayers import Map, GeoJSON\n",
    "\n",
    "m = Map(center=[39.926688, 7.930542], zoom=5.5)\n",
    "# Note the coordinate order: [latitude, longitude]\n",
    "\n",
    "with open(\"min_time_route.json\") as f:\n",
    "    data = json.load(f)\n",
    "\n",
    "# Add the GeoJSON layer\n",
    "geo_json = GeoJSON(\n",
    "    data=data\n",
    ")\n",
    "\n",
    "# Add the GeoJSON layer to the map\n",
    "m.add_layer(geo_json)\n",
    "m"
   ]
  },
  {
   "cell_type": "code",
   "execution_count": null,
   "id": "2dbf30c3",
   "metadata": {},
   "outputs": [],
   "source": [
    "resize_Images_WRT"
   ]
  },
  {
   "cell_type": "code",
   "execution_count": null,
   "id": "804bc9d4",
   "metadata": {},
   "outputs": [],
   "source": [
    "import os\n",
    "from PIL import Image\n",
    "from IPython.display import display, clear_output\n",
    "import ipywidgets as widgets\n",
    "\n",
    "# Pfad zum Bilderordner\n",
    "image_folder = \"Images-WRT\"\n",
    "image_files = sorted([\n",
    "    f for f in os.listdir(image_folder)\n",
    "    if f.lower().endswith('.png')\n",
    "])\n",
    "\n",
    "# Output-Widget für das Bild (damit es im Layout steuerbar ist)\n",
    "image_output = widgets.Output()\n",
    "\n",
    "# Funktion zur Bildanzeige\n",
    "def show_image(index):\n",
    "    image_path = os.path.join(image_folder, image_files[index])\n",
    "    with image_output:\n",
    "        image_output.clear_output(wait=True)\n",
    "        img = Image.open(image_path)\n",
    "        display(img)\n",
    "\n",
    "# Vertikaler Slider\n",
    "slider = widgets.IntSlider(\n",
    "    value=0,\n",
    "    min=0,\n",
    "    max=len(image_files) - 1,\n",
    "    step=1,\n",
    "    orientation='vertical',\n",
    "    description='',\n",
    "    continuous_update=True,\n",
    "    layout=widgets.Layout(height='300px')\n",
    ")\n",
    "\n",
    "# Callback bei Änderung\n",
    "slider.observe(lambda change: show_image(change['new']), names='value')\n",
    "\n",
    "# Layout: Slider links, Bild rechts\n",
    "ui = widgets.HBox([slider,image_output], layout=widgets.Layout(align_items='center'))\n",
    "\n",
    "# Erstes Bild anzeigen\n",
    "show_image(0)\n",
    "\n",
    "# Anzeige\n",
    "display(ui)"
   ]
  }
 ],
 "metadata": {
  "kernelspec": {
   "display_name": "Python [conda env:base] *",
   "language": "python",
   "name": "conda-base-py"
  },
  "language_info": {
   "codemirror_mode": {
    "name": "ipython",
    "version": 3
   },
   "file_extension": ".py",
   "mimetype": "text/x-python",
   "name": "python",
   "nbconvert_exporter": "python",
   "pygments_lexer": "ipython3",
   "version": "3.12.7"
  }
 },
 "nbformat": 4,
 "nbformat_minor": 5
}

{
 "cells": [
  {
   "cell_type": "code",
   "execution_count": null,
   "id": "6ac507b3-52d8-4d39-957d-fba7a60b2f89",
   "metadata": {},
   "outputs": [],
   "source": [
    "from dotenv import load_dotenv\n",
    "import os\n",
    "\n",
    "load_dotenv() "
   ]
  },
  {
   "cell_type": "code",
   "execution_count": null,
   "id": "d065420c-7309-47c6-a240-1fd03ebc1715",
   "metadata": {},
   "outputs": [],
   "source": [
    "%%bash\n",
    "python WRT-for-sandbox/cli.py -f config.template.json"
   ]
  }
 ],
 "metadata": {
  "kernelspec": {
   "display_name": "Python [conda env:base] *",
   "language": "python",
   "name": "conda-base-py"
  },
  "language_info": {
   "codemirror_mode": {
    "name": "ipython",
    "version": 3
   },
   "file_extension": ".py",
   "mimetype": "text/x-python",
   "name": "python",
   "nbconvert_exporter": "python",
   "pygments_lexer": "ipython3",
   "version": "3.12.7"
  }
 },
 "nbformat": 4,
 "nbformat_minor": 5
}

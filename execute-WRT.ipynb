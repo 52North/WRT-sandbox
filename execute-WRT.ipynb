{
 "cells": [
  {
   "cell_type": "markdown",
   "id": "0e8e43b2",
   "metadata": {},
   "source": [
    "Load the Weather-Routing-Tool"
   ]
  },
  {
   "cell_type": "code",
   "execution_count": null,
   "id": "f7de50e9",
   "metadata": {},
   "outputs": [],
   "source": [
    "import WeatherRoutingTool"
   ]
  },
  {
   "cell_type": "markdown",
   "id": "e9a3877c",
   "metadata": {},
   "source": [
    "Set enviroment variables"
   ]
  },
  {
   "cell_type": "code",
   "execution_count": null,
   "id": "6ac507b3-52d8-4d39-957d-fba7a60b2f89",
   "metadata": {},
   "outputs": [],
   "source": [
    "from dotenv import load_dotenv\n",
    "import os\n",
    "\n",
    "load_dotenv() "
   ]
  },
  {
   "cell_type": "markdown",
   "id": "b78014a2",
   "metadata": {},
   "source": [
    "Run the Weather-Routing-Tool with the given template "
   ]
  },
  {
   "cell_type": "code",
   "execution_count": null,
   "id": "d065420c-7309-47c6-a240-1fd03ebc1715",
   "metadata": {},
   "outputs": [],
   "source": [
    "%run cli.py -f config.template.json"
   ]
  },
  {
   "cell_type": "markdown",
   "id": "1e1bb1fe",
   "metadata": {},
   "source": [
    "Display the route"
   ]
  },
  {
   "cell_type": "code",
   "execution_count": null,
   "id": "0d77e35d",
   "metadata": {},
   "outputs": [],
   "source": [
    "import os\n",
    "import json\n",
    "from ipyleaflet import Map, GeoJSON\n",
    "\n",
    "m = Map(center=[39.926688, 7.930542], zoom=5.5)\n",
    "\n",
    "with open(\"min_time_route.json\") as f:\n",
    "    data = json.load(f)\n",
    "\n",
    "# Add the GeoJSON layer\n",
    "geo_json = GeoJSON(data=data)\n",
    "\n",
    "# Add the GeoJSON layer to the map\n",
    "m.add_layer(geo_json)\n",
    "m"
   ]
  },
  {
   "cell_type": "markdown",
   "id": "c6a93b26",
   "metadata": {},
   "source": [
    "You can go through the routing steps by moving the slider"
   ]
  },
  {
   "cell_type": "code",
   "execution_count": null,
   "id": "804bc9d4",
   "metadata": {},
   "outputs": [
    {
     "ename": "TraitError",
     "evalue": "setting min > max",
     "output_type": "error",
     "traceback": [
      "\u001b[1;31m---------------------------------------------------------------------------\u001b[0m",
      "\u001b[1;31mTraitError\u001b[0m                                Traceback (most recent call last)",
      "Cell \u001b[1;32mIn[1], line 27\u001b[0m\n\u001b[0;32m     24\u001b[0m         display(img)\n\u001b[0;32m     26\u001b[0m \u001b[38;5;66;03m# Vertikaler Slider\u001b[39;00m\n\u001b[1;32m---> 27\u001b[0m slider \u001b[38;5;241m=\u001b[39m \u001b[43mwidgets\u001b[49m\u001b[38;5;241;43m.\u001b[39;49m\u001b[43mIntSlider\u001b[49m\u001b[43m(\u001b[49m\n\u001b[0;32m     28\u001b[0m \u001b[43m    \u001b[49m\u001b[43mvalue\u001b[49m\u001b[38;5;241;43m=\u001b[39;49m\u001b[38;5;241;43m0\u001b[39;49m\u001b[43m,\u001b[49m\n\u001b[0;32m     29\u001b[0m \u001b[43m    \u001b[49m\u001b[38;5;28;43mmin\u001b[39;49m\u001b[38;5;241;43m=\u001b[39;49m\u001b[38;5;241;43m0\u001b[39;49m\u001b[43m,\u001b[49m\n\u001b[0;32m     30\u001b[0m \u001b[43m    \u001b[49m\u001b[38;5;28;43mmax\u001b[39;49m\u001b[38;5;241;43m=\u001b[39;49m\u001b[38;5;28;43mlen\u001b[39;49m\u001b[43m(\u001b[49m\u001b[43mimage_files\u001b[49m\u001b[43m)\u001b[49m\u001b[43m \u001b[49m\u001b[38;5;241;43m-\u001b[39;49m\u001b[43m \u001b[49m\u001b[38;5;241;43m1\u001b[39;49m\u001b[43m,\u001b[49m\n\u001b[0;32m     31\u001b[0m \u001b[43m    \u001b[49m\u001b[43mstep\u001b[49m\u001b[38;5;241;43m=\u001b[39;49m\u001b[38;5;241;43m1\u001b[39;49m\u001b[43m,\u001b[49m\n\u001b[0;32m     32\u001b[0m \u001b[43m    \u001b[49m\u001b[43morientation\u001b[49m\u001b[38;5;241;43m=\u001b[39;49m\u001b[38;5;124;43m'\u001b[39;49m\u001b[38;5;124;43mvertical\u001b[39;49m\u001b[38;5;124;43m'\u001b[39;49m\u001b[43m,\u001b[49m\n\u001b[0;32m     33\u001b[0m \u001b[43m    \u001b[49m\u001b[43mdescription\u001b[49m\u001b[38;5;241;43m=\u001b[39;49m\u001b[38;5;124;43m'\u001b[39;49m\u001b[38;5;124;43mrouting\u001b[39;49m\u001b[38;5;124;43m'\u001b[39;49m\u001b[43m,\u001b[49m\n\u001b[0;32m     34\u001b[0m \u001b[43m    \u001b[49m\u001b[43mcontinuous_update\u001b[49m\u001b[38;5;241;43m=\u001b[39;49m\u001b[38;5;28;43;01mTrue\u001b[39;49;00m\u001b[43m,\u001b[49m\n\u001b[0;32m     35\u001b[0m \u001b[43m    \u001b[49m\u001b[43mlayout\u001b[49m\u001b[38;5;241;43m=\u001b[39;49m\u001b[43mwidgets\u001b[49m\u001b[38;5;241;43m.\u001b[39;49m\u001b[43mLayout\u001b[49m\u001b[43m(\u001b[49m\u001b[43mheight\u001b[49m\u001b[38;5;241;43m=\u001b[39;49m\u001b[38;5;124;43m'\u001b[39;49m\u001b[38;5;124;43m300px\u001b[39;49m\u001b[38;5;124;43m'\u001b[39;49m\u001b[43m)\u001b[49m\n\u001b[0;32m     36\u001b[0m \u001b[43m)\u001b[49m\n\u001b[0;32m     38\u001b[0m \u001b[38;5;66;03m# Callback bei Änderung\u001b[39;00m\n\u001b[0;32m     39\u001b[0m slider\u001b[38;5;241m.\u001b[39mobserve(\u001b[38;5;28;01mlambda\u001b[39;00m change: show_image(change[\u001b[38;5;124m'\u001b[39m\u001b[38;5;124mnew\u001b[39m\u001b[38;5;124m'\u001b[39m]), names\u001b[38;5;241m=\u001b[39m\u001b[38;5;124m'\u001b[39m\u001b[38;5;124mvalue\u001b[39m\u001b[38;5;124m'\u001b[39m)\n",
      "File \u001b[1;32mc:\\Users\\JBA\\anaconda3\\Lib\\site-packages\\ipywidgets\\widgets\\widget_int.py:61\u001b[0m, in \u001b[0;36m_bounded_int_doc.<locals>.__init__\u001b[1;34m(self, value, min, max, step, **kwargs)\u001b[0m\n\u001b[0;32m     59\u001b[0m \u001b[38;5;28;01mif\u001b[39;00m step \u001b[38;5;129;01mis\u001b[39;00m \u001b[38;5;129;01mnot\u001b[39;00m \u001b[38;5;28;01mNone\u001b[39;00m:\n\u001b[0;32m     60\u001b[0m     kwargs[\u001b[38;5;124m'\u001b[39m\u001b[38;5;124mstep\u001b[39m\u001b[38;5;124m'\u001b[39m] \u001b[38;5;241m=\u001b[39m step\n\u001b[1;32m---> 61\u001b[0m \u001b[38;5;28;43msuper\u001b[39;49m\u001b[43m(\u001b[49m\u001b[38;5;28;43mcls\u001b[39;49m\u001b[43m,\u001b[49m\u001b[43m \u001b[49m\u001b[38;5;28;43mself\u001b[39;49m\u001b[43m)\u001b[49m\u001b[38;5;241;43m.\u001b[39;49m\u001b[38;5;21;43m__init__\u001b[39;49m\u001b[43m(\u001b[49m\u001b[38;5;241;43m*\u001b[39;49m\u001b[38;5;241;43m*\u001b[39;49m\u001b[43mkwargs\u001b[49m\u001b[43m)\u001b[49m\n",
      "File \u001b[1;32mc:\\Users\\JBA\\anaconda3\\Lib\\site-packages\\ipywidgets\\widgets\\widget_int.py:93\u001b[0m, in \u001b[0;36m_BoundedInt.__init__\u001b[1;34m(self, value, min, max, step, **kwargs)\u001b[0m\n\u001b[0;32m     91\u001b[0m \u001b[38;5;28;01mif\u001b[39;00m step \u001b[38;5;129;01mis\u001b[39;00m \u001b[38;5;129;01mnot\u001b[39;00m \u001b[38;5;28;01mNone\u001b[39;00m:\n\u001b[0;32m     92\u001b[0m     kwargs[\u001b[38;5;124m'\u001b[39m\u001b[38;5;124mstep\u001b[39m\u001b[38;5;124m'\u001b[39m] \u001b[38;5;241m=\u001b[39m step\n\u001b[1;32m---> 93\u001b[0m \u001b[38;5;28;43msuper\u001b[39;49m\u001b[43m(\u001b[49m\u001b[43m_BoundedInt\u001b[49m\u001b[43m,\u001b[49m\u001b[43m \u001b[49m\u001b[38;5;28;43mself\u001b[39;49m\u001b[43m)\u001b[49m\u001b[38;5;241;43m.\u001b[39;49m\u001b[38;5;21;43m__init__\u001b[39;49m\u001b[43m(\u001b[49m\u001b[38;5;241;43m*\u001b[39;49m\u001b[38;5;241;43m*\u001b[39;49m\u001b[43mkwargs\u001b[49m\u001b[43m)\u001b[49m\n",
      "File \u001b[1;32mc:\\Users\\JBA\\anaconda3\\Lib\\site-packages\\ipywidgets\\widgets\\widget_int.py:75\u001b[0m, in \u001b[0;36m_Int.__init__\u001b[1;34m(self, value, **kwargs)\u001b[0m\n\u001b[0;32m     73\u001b[0m \u001b[38;5;28;01mif\u001b[39;00m value \u001b[38;5;129;01mis\u001b[39;00m \u001b[38;5;129;01mnot\u001b[39;00m \u001b[38;5;28;01mNone\u001b[39;00m:\n\u001b[0;32m     74\u001b[0m     kwargs[\u001b[38;5;124m'\u001b[39m\u001b[38;5;124mvalue\u001b[39m\u001b[38;5;124m'\u001b[39m] \u001b[38;5;241m=\u001b[39m value\n\u001b[1;32m---> 75\u001b[0m \u001b[38;5;28;43msuper\u001b[39;49m\u001b[43m(\u001b[49m\u001b[43m_Int\u001b[49m\u001b[43m,\u001b[49m\u001b[43m \u001b[49m\u001b[38;5;28;43mself\u001b[39;49m\u001b[43m)\u001b[49m\u001b[38;5;241;43m.\u001b[39;49m\u001b[38;5;21;43m__init__\u001b[39;49m\u001b[43m(\u001b[49m\u001b[38;5;241;43m*\u001b[39;49m\u001b[38;5;241;43m*\u001b[39;49m\u001b[43mkwargs\u001b[49m\u001b[43m)\u001b[49m\n",
      "File \u001b[1;32mc:\\Users\\JBA\\anaconda3\\Lib\\site-packages\\ipywidgets\\widgets\\widget.py:478\u001b[0m, in \u001b[0;36mWidget.__init__\u001b[1;34m(self, **kwargs)\u001b[0m\n\u001b[0;32m    476\u001b[0m \u001b[38;5;250m\u001b[39m\u001b[38;5;124;03m\"\"\"Public constructor\"\"\"\u001b[39;00m\n\u001b[0;32m    477\u001b[0m \u001b[38;5;28mself\u001b[39m\u001b[38;5;241m.\u001b[39m_model_id \u001b[38;5;241m=\u001b[39m kwargs\u001b[38;5;241m.\u001b[39mpop(\u001b[38;5;124m'\u001b[39m\u001b[38;5;124mmodel_id\u001b[39m\u001b[38;5;124m'\u001b[39m, \u001b[38;5;28;01mNone\u001b[39;00m)\n\u001b[1;32m--> 478\u001b[0m \u001b[38;5;28;43msuper\u001b[39;49m\u001b[43m(\u001b[49m\u001b[43mWidget\u001b[49m\u001b[43m,\u001b[49m\u001b[43m \u001b[49m\u001b[38;5;28;43mself\u001b[39;49m\u001b[43m)\u001b[49m\u001b[38;5;241;43m.\u001b[39;49m\u001b[38;5;21;43m__init__\u001b[39;49m\u001b[43m(\u001b[49m\u001b[38;5;241;43m*\u001b[39;49m\u001b[38;5;241;43m*\u001b[39;49m\u001b[43mkwargs\u001b[49m\u001b[43m)\u001b[49m\n\u001b[0;32m    480\u001b[0m Widget\u001b[38;5;241m.\u001b[39m_call_widget_constructed(\u001b[38;5;28mself\u001b[39m)\n\u001b[0;32m    481\u001b[0m \u001b[38;5;28mself\u001b[39m\u001b[38;5;241m.\u001b[39mopen()\n",
      "File \u001b[1;32mc:\\Users\\JBA\\anaconda3\\Lib\\site-packages\\traitlets\\traitlets.py:1369\u001b[0m, in \u001b[0;36mHasTraits.__init__\u001b[1;34m(self, *args, **kwargs)\u001b[0m\n\u001b[0;32m   1367\u001b[0m changed \u001b[38;5;241m=\u001b[39m \u001b[38;5;28mset\u001b[39m(kwargs) \u001b[38;5;241m&\u001b[39m \u001b[38;5;28mset\u001b[39m(\u001b[38;5;28mself\u001b[39m\u001b[38;5;241m.\u001b[39m_traits)\n\u001b[0;32m   1368\u001b[0m \u001b[38;5;28;01mfor\u001b[39;00m key \u001b[38;5;129;01min\u001b[39;00m changed:\n\u001b[1;32m-> 1369\u001b[0m     value \u001b[38;5;241m=\u001b[39m \u001b[38;5;28;43mself\u001b[39;49m\u001b[38;5;241;43m.\u001b[39;49m\u001b[43m_traits\u001b[49m\u001b[43m[\u001b[49m\u001b[43mkey\u001b[49m\u001b[43m]\u001b[49m\u001b[38;5;241;43m.\u001b[39;49m\u001b[43m_cross_validate\u001b[49m\u001b[43m(\u001b[49m\u001b[38;5;28;43mself\u001b[39;49m\u001b[43m,\u001b[49m\u001b[43m \u001b[49m\u001b[38;5;28;43mgetattr\u001b[39;49m\u001b[43m(\u001b[49m\u001b[38;5;28;43mself\u001b[39;49m\u001b[43m,\u001b[49m\u001b[43m \u001b[49m\u001b[43mkey\u001b[49m\u001b[43m)\u001b[49m\u001b[43m)\u001b[49m\n\u001b[0;32m   1370\u001b[0m     \u001b[38;5;28mself\u001b[39m\u001b[38;5;241m.\u001b[39mset_trait(key, value)\n\u001b[0;32m   1371\u001b[0m     changes[key][\u001b[38;5;124m\"\u001b[39m\u001b[38;5;124mnew\u001b[39m\u001b[38;5;124m\"\u001b[39m] \u001b[38;5;241m=\u001b[39m value\n",
      "File \u001b[1;32mc:\\Users\\JBA\\anaconda3\\Lib\\site-packages\\traitlets\\traitlets.py:730\u001b[0m, in \u001b[0;36mTraitType._cross_validate\u001b[1;34m(self, obj, value)\u001b[0m\n\u001b[0;32m    728\u001b[0m \u001b[38;5;28;01mif\u001b[39;00m \u001b[38;5;28mself\u001b[39m\u001b[38;5;241m.\u001b[39mname \u001b[38;5;129;01min\u001b[39;00m obj\u001b[38;5;241m.\u001b[39m_trait_validators:\n\u001b[0;32m    729\u001b[0m     proposal \u001b[38;5;241m=\u001b[39m Bunch({\u001b[38;5;124m\"\u001b[39m\u001b[38;5;124mtrait\u001b[39m\u001b[38;5;124m\"\u001b[39m: \u001b[38;5;28mself\u001b[39m, \u001b[38;5;124m\"\u001b[39m\u001b[38;5;124mvalue\u001b[39m\u001b[38;5;124m\"\u001b[39m: value, \u001b[38;5;124m\"\u001b[39m\u001b[38;5;124mowner\u001b[39m\u001b[38;5;124m\"\u001b[39m: obj})\n\u001b[1;32m--> 730\u001b[0m     value \u001b[38;5;241m=\u001b[39m \u001b[43mobj\u001b[49m\u001b[38;5;241;43m.\u001b[39;49m\u001b[43m_trait_validators\u001b[49m\u001b[43m[\u001b[49m\u001b[38;5;28;43mself\u001b[39;49m\u001b[38;5;241;43m.\u001b[39;49m\u001b[43mname\u001b[49m\u001b[43m]\u001b[49m\u001b[43m(\u001b[49m\u001b[43mobj\u001b[49m\u001b[43m,\u001b[49m\u001b[43m \u001b[49m\u001b[43mproposal\u001b[49m\u001b[43m)\u001b[49m\n\u001b[0;32m    731\u001b[0m \u001b[38;5;28;01melif\u001b[39;00m \u001b[38;5;28mhasattr\u001b[39m(obj, \u001b[38;5;124m\"\u001b[39m\u001b[38;5;124m_\u001b[39m\u001b[38;5;132;01m%s\u001b[39;00m\u001b[38;5;124m_validate\u001b[39m\u001b[38;5;124m\"\u001b[39m \u001b[38;5;241m%\u001b[39m \u001b[38;5;28mself\u001b[39m\u001b[38;5;241m.\u001b[39mname):\n\u001b[0;32m    732\u001b[0m     meth_name \u001b[38;5;241m=\u001b[39m \u001b[38;5;124m\"\u001b[39m\u001b[38;5;124m_\u001b[39m\u001b[38;5;132;01m%s\u001b[39;00m\u001b[38;5;124m_validate\u001b[39m\u001b[38;5;124m\"\u001b[39m \u001b[38;5;241m%\u001b[39m \u001b[38;5;28mself\u001b[39m\u001b[38;5;241m.\u001b[39mname\n",
      "File \u001b[1;32mc:\\Users\\JBA\\anaconda3\\Lib\\site-packages\\traitlets\\traitlets.py:1241\u001b[0m, in \u001b[0;36mEventHandler.__call__\u001b[1;34m(self, *args, **kwargs)\u001b[0m\n\u001b[0;32m   1239\u001b[0m \u001b[38;5;250m\u001b[39m\u001b[38;5;124;03m\"\"\"Pass `*args` and `**kwargs` to the handler's function if it exists.\"\"\"\u001b[39;00m\n\u001b[0;32m   1240\u001b[0m \u001b[38;5;28;01mif\u001b[39;00m \u001b[38;5;28mhasattr\u001b[39m(\u001b[38;5;28mself\u001b[39m, \u001b[38;5;124m\"\u001b[39m\u001b[38;5;124mfunc\u001b[39m\u001b[38;5;124m\"\u001b[39m):\n\u001b[1;32m-> 1241\u001b[0m     \u001b[38;5;28;01mreturn\u001b[39;00m \u001b[38;5;28;43mself\u001b[39;49m\u001b[38;5;241;43m.\u001b[39;49m\u001b[43mfunc\u001b[49m\u001b[43m(\u001b[49m\u001b[38;5;241;43m*\u001b[39;49m\u001b[43margs\u001b[49m\u001b[43m,\u001b[49m\u001b[43m \u001b[49m\u001b[38;5;241;43m*\u001b[39;49m\u001b[38;5;241;43m*\u001b[39;49m\u001b[43mkwargs\u001b[49m\u001b[43m)\u001b[49m\n\u001b[0;32m   1242\u001b[0m \u001b[38;5;28;01melse\u001b[39;00m:\n\u001b[0;32m   1243\u001b[0m     \u001b[38;5;28;01mreturn\u001b[39;00m \u001b[38;5;28mself\u001b[39m\u001b[38;5;241m.\u001b[39m_init_call(\u001b[38;5;241m*\u001b[39margs, \u001b[38;5;241m*\u001b[39m\u001b[38;5;241m*\u001b[39mkwargs)\n",
      "File \u001b[1;32mc:\\Users\\JBA\\anaconda3\\Lib\\site-packages\\ipywidgets\\widgets\\widget_int.py:108\u001b[0m, in \u001b[0;36m_BoundedInt._validate_min\u001b[1;34m(self, proposal)\u001b[0m\n\u001b[0;32m    106\u001b[0m \u001b[38;5;28mmin\u001b[39m \u001b[38;5;241m=\u001b[39m proposal[\u001b[38;5;124m'\u001b[39m\u001b[38;5;124mvalue\u001b[39m\u001b[38;5;124m'\u001b[39m]\n\u001b[0;32m    107\u001b[0m \u001b[38;5;28;01mif\u001b[39;00m \u001b[38;5;28mmin\u001b[39m \u001b[38;5;241m>\u001b[39m \u001b[38;5;28mself\u001b[39m\u001b[38;5;241m.\u001b[39mmax:\n\u001b[1;32m--> 108\u001b[0m     \u001b[38;5;28;01mraise\u001b[39;00m TraitError(\u001b[38;5;124m'\u001b[39m\u001b[38;5;124msetting min > max\u001b[39m\u001b[38;5;124m'\u001b[39m)\n\u001b[0;32m    109\u001b[0m \u001b[38;5;28;01mif\u001b[39;00m \u001b[38;5;28mmin\u001b[39m \u001b[38;5;241m>\u001b[39m \u001b[38;5;28mself\u001b[39m\u001b[38;5;241m.\u001b[39mvalue:\n\u001b[0;32m    110\u001b[0m     \u001b[38;5;28mself\u001b[39m\u001b[38;5;241m.\u001b[39mvalue \u001b[38;5;241m=\u001b[39m \u001b[38;5;28mmin\u001b[39m\n",
      "\u001b[1;31mTraitError\u001b[0m: setting min > max"
     ]
    }
   ],
   "source": [
    "import os\n",
    "import re\n",
    "from PIL import Image\n",
    "from IPython.display import display, clear_output\n",
    "import ipywidgets as widgets\n",
    "\n",
    "# Resize images\n",
    "%run resize_Images_WRT.py\n",
    "\n",
    "# Define key for sorted function\n",
    "def natural_key(s):\n",
    "    return [int(text) if text.isdigit() else text.lower() for text in re.split(r'(\\d+)', s)]\n",
    "\n",
    "\n",
    "# Set path to Images folder\n",
    "image_folder = \"Images-WRT\"\n",
    "image_files = sorted([\n",
    "    f for f in os.listdir(image_folder)\n",
    "    if f.lower().endswith('.png')\n",
    "    ], key=natural_key)\n",
    "\n",
    "# Output-Widget for the image \n",
    "image_output = widgets.Output()\n",
    "\n",
    "# Function for displaying the images\n",
    "def show_image(index):\n",
    "    image_path = os.path.join(image_folder, image_files[index])\n",
    "    with image_output:\n",
    "        image_output.clear_output(wait=True)\n",
    "        img = Image.open(image_path)\n",
    "        display(img)\n",
    "\n",
    "# Defining the slider\n",
    "slider = widgets.IntSlider(\n",
    "    value=0,\n",
    "    min=0,\n",
    "    max=len(image_files) - 1,\n",
    "    step=1,\n",
    "    orientation='vertical',\n",
    "    description='routing',\n",
    "    continuous_update=True,\n",
    "    layout=widgets.Layout(height='300px')\n",
    ")\n",
    "\n",
    "# Callback for the slider\n",
    "slider.observe(lambda change: show_image(change['new']), names='value')\n",
    "\n",
    "# Layout\n",
    "ui = widgets.HBox([slider,image_output], layout=widgets.Layout(align_items='center'))\n",
    "\n",
    "# Show first image\n",
    "show_image(0)\n",
    "\n",
    "# Show ui\n",
    "display(ui)"
   ]
  },
  {
   "cell_type": "markdown",
   "id": "bd337c35",
   "metadata": {},
   "source": [
    "You can start youre own routing by setting the two map markers (startpoint:green, endpoint:red) and pressing 'start routing'. If want to set a new route press 'new route'."
   ]
  },
  {
   "cell_type": "code",
   "execution_count": null,
   "id": "1c049b13",
   "metadata": {},
   "outputs": [],
   "source": [
    "import json\n",
    "import os\n",
    "from ipyleaflet import Map, Marker, AwesomeIcon, GeoJSON\n",
    "import ipywidgets as widgets\n",
    "from ipywidgets import Button\n",
    "\n",
    "# Define the look of the map markers\n",
    "icon1 = AwesomeIcon(\n",
    "    name='map-pin',       \n",
    "    marker_color='green',       \n",
    "    icon_color='white',       \n",
    "    spin=False\n",
    ")\n",
    "\n",
    "icon2 = AwesomeIcon(\n",
    "    name='map-pin',       \n",
    "    marker_color='red',       \n",
    "    icon_color='white',       \n",
    "    spin=False\n",
    ")\n",
    "\n",
    "# Define the map and the map markers\n",
    "center = ([39.926688, 7.930542])\n",
    "m = Map(center=center, zoom=6)\n",
    "marker1 = Marker(location=([39.926688, 5]), draggable=True, icon=icon1)\n",
    "marker2 = Marker(location=([39.926688, 10.5]), draggable=True, icon=icon2)\n",
    "\n",
    "m.add(marker1)\n",
    "m.add(marker2)\n",
    "\n",
    "# Define Buttons to start the routing and to set a new route\n",
    "button1= widgets.Button(description=\"start routing\")\n",
    "button2= widgets.Button(description=\"new route\")\n",
    "\n",
    "# Function that deletes the last route and sets teh map markers to their default position\n",
    "def on_button2_clicked(b):\n",
    "    marker1.location=(39.926688, 5)\n",
    "    marker2.location=(39.926688, 10.5)\n",
    "    m.remove(geo_json)\n",
    "    m.add(marker1)\n",
    "    m.add(marker2)\n",
    "\n",
    "# Function thet rewrites the config file so the WRT calculates the route between the given map markers,\n",
    "# starts the WRT and displays the calculated route\n",
    "def on_button1_clicked(b):\n",
    "    a,b=marker1.location\n",
    "    c,d=marker2.location\n",
    "    with open('config.template.json', 'r+') as f:\n",
    "        data = json.load(f)\n",
    "        data['DEFAULT_ROUTE'] = [a,b,c,d]\n",
    "    with open('config.template.json', 'w') as file: \n",
    "        json.dump(data, file, indent=4)\n",
    "    %run cli.py -f config.template.json\n",
    "    with open(\"min_time_route.json\") as f:\n",
    "        data = json.load(f)\n",
    "    global geo_json\n",
    "    geo_json = GeoJSON(data=data)\n",
    "    m.remove(marker1)\n",
    "    m.remove(marker2)\n",
    "    m.add(geo_json)\n",
    "\n",
    "# Add callbacks for the buttons and display them and he map \n",
    "button1.on_click(on_button1_clicked)\n",
    "button2.on_click(on_button2_clicked)\n",
    "display(button1)\n",
    "display(button2)\n",
    "m"
   ]
  }
 ],
 "metadata": {
  "kernelspec": {
   "display_name": "base",
   "language": "python",
   "name": "python3"
  },
  "language_info": {
   "codemirror_mode": {
    "name": "ipython",
    "version": 3
   },
   "file_extension": ".py",
   "mimetype": "text/x-python",
   "name": "python",
   "nbconvert_exporter": "python",
   "pygments_lexer": "ipython3",
   "version": "3.12.7"
  }
 },
 "nbformat": 4,
 "nbformat_minor": 5
}
